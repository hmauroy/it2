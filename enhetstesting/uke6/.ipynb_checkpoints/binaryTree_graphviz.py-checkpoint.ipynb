{
 "cells": [
  {
   "cell_type": "code",
   "execution_count": 2,
   "id": "62583350",
   "metadata": {},
   "outputs": [],
   "source": [
    "import graphviz\n",
    "from BinaryTree import BinaryTree\n",
    "from collections import namedtuple\n",
    "from BinaryTreeNode import BinaryTreeNode\n",
    "dot = graphviz.Digraph(comment='Binary Tree, NOT Search tree!')"
   ]
  },
  {
   "cell_type": "code",
   "execution_count": 3,
   "id": "ff86ebb4",
   "metadata": {},
   "outputs": [],
   "source": [
    "# Declare namedtuple()\n",
    "Person = namedtuple('Person', ['etternavn', 'fornavn', 'adresse', 'postnummer', 'poststed'])\n",
    "\n",
    "def readFile(filepath):\n",
    "    persons = []\n",
    "    with open(filepath,'r', encoding='iso-8859-1') as f:\n",
    "        #lines = f.readlines()\n",
    "        for line in f:\n",
    "            person = tuple(line.replace('\\n', '').split(\";\")) # create tuple from string\n",
    "            persons.append(Person(*person)) # * (star) inserts the tuple as arguments to namedtuple Person\n",
    "    \n",
    "    return persons\n",
    "    \n",
    "\n",
    "persons = readFile(\"personer.txt\")"
   ]
  },
  {
   "cell_type": "code",
   "execution_count": 4,
   "id": "295698a2",
   "metadata": {},
   "outputs": [],
   "source": [
    "def createSmallTree(list,n):\n",
    "    tree = BinaryTree()\n",
    "    for p in list[:n]:\n",
    "        tree.insert(value=p)\n",
    "    return tree"
   ]
  },
  {
   "cell_type": "code",
   "execution_count": 6,
   "id": "f7e6359e",
   "metadata": {},
   "outputs": [
    {
     "name": "stdout",
     "output_type": "stream",
     "text": [
      "Person(etternavn='GJERSTAD', fornavn='TORKJELL', adresse='HOSTELAND 2 83', postnummer='1361', poststed='ï¿½STERï¿½S')\n"
     ]
    }
   ],
   "source": [
    "tree = createSmallTree(persons,3)\n",
    "#tree._root.levelOrder()\n",
    "node = BinaryTreeNode(persons[2])\n",
    "print(tree.findLeftMost(tree._root).value)\n",
    "#print(node.value)\n",
    "#assert tree.findLeftMost(tree._root) == node, \"Leftmost is not correct.\"\n",
    "#print(tree.findLeftMost(tree._root) == node)"
   ]
  },
  {
   "cell_type": "code",
   "execution_count": null,
   "id": "800b39b4",
   "metadata": {},
   "outputs": [],
   "source": []
  }
 ],
 "metadata": {
  "kernelspec": {
   "display_name": "Python 3 (ipykernel)",
   "language": "python",
   "name": "python3"
  },
  "language_info": {
   "codemirror_mode": {
    "name": "ipython",
    "version": 3
   },
   "file_extension": ".py",
   "mimetype": "text/x-python",
   "name": "python",
   "nbconvert_exporter": "python",
   "pygments_lexer": "ipython3",
   "version": "3.10.4"
  }
 },
 "nbformat": 4,
 "nbformat_minor": 5
}
