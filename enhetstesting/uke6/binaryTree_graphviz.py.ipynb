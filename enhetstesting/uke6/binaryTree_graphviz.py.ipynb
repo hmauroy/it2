{
 "cells": [
  {
   "cell_type": "code",
   "execution_count": 6,
   "id": "09adfd16",
   "metadata": {},
   "outputs": [],
   "source": [
    "from graphviz import Digraph\n",
    "from BinaryTree import BinaryTree\n",
    "from collections import namedtuple\n",
    "from BinaryTreeNode import BinaryTreeNode"
   ]
  },
  {
   "cell_type": "code",
   "execution_count": 21,
   "id": "8a19cc55",
   "metadata": {},
   "outputs": [
    {
     "name": "stdout",
     "output_type": "stream",
     "text": [
      "Antall personer i datasett: 10\n"
     ]
    }
   ],
   "source": [
    "# Declare namedtuple()\n",
    "Person = namedtuple('Person', ['etternavn', 'fornavn', 'adresse', 'postnummer', 'poststed'])\n",
    "\n",
    "def readFile(filepath):\n",
    "    persons = []\n",
    "    with open(filepath,'r', encoding='iso-8859-1') as f:\n",
    "        #lines = f.readlines()\n",
    "        for line in f:\n",
    "            person = tuple(line.replace('\\n', '').split(\";\")) # create tuple from string\n",
    "            persons.append(Person(*person)) # * (star) inserts the tuple as arguments to namedtuple Person\n",
    "    \n",
    "    return persons\n",
    "    \n",
    "\n",
    "persons = readFile(\"personer.txt\")\n",
    "print(f\"Antall personer i datasett: {len(persons)}\")"
   ]
  },
  {
   "cell_type": "code",
   "execution_count": 8,
   "id": "33711827",
   "metadata": {},
   "outputs": [],
   "source": [
    "def createSmallTree(list,n):\n",
    "    tree = BinaryTree()\n",
    "    for p in list[:n]:\n",
    "        tree.insert(value=p)\n",
    "    return tree"
   ]
  },
  {
   "cell_type": "code",
   "execution_count": 48,
   "id": "30b221c3",
   "metadata": {},
   "outputs": [
    {
     "name": "stdout",
     "output_type": "stream",
     "text": [
      "Person(etternavn='KRISTIANSEN', fornavn='MORTEN KRISTIAN', adresse='LEINAHYTTA 36', postnummer='7224', poststed='MELHUS')  \n",
      "Person(etternavn='GJERSTAD', fornavn='TORKJELL', adresse='HOSTELAND 2 83', postnummer='1361', poststed='ï¿½STERï¿½S')  \n",
      "Person(etternavn='OLDERVIK', fornavn='SHARI LILL', adresse='KRï¿½KA 84', postnummer='5948', poststed='FEDJE')  \n",
      "Person(etternavn='ELI', fornavn='RITA HELEN', adresse='MEHEIAVEGEN 80', postnummer='4436', poststed='GYLAND')  \n",
      "Person(etternavn='NYMANN', fornavn='ROY-ï¿½YSTEIN', adresse='Hï¿½NESET 77', postnummer='7033', poststed='TRONDHEIM')  \n",
      "Person(etternavn='VESTLY SKIVIK', fornavn='JAHN FREDRIK', adresse='LINNGï¿½RD 22', postnummer='1451', poststed='NESODDTANGEN')  \n",
      "Person(etternavn='LINNERUD', fornavn='JOHNNY', adresse='Lï¿½RUM MELLEM 50', postnummer='6507', poststed='KRISTIANSUND N')  \n",
      "Person(etternavn='REMLO', fornavn='KIM ANDRE', adresse='SANDFLATA 71', postnummer='5648', poststed='HOLMEFJORD')  \n",
      "Person(etternavn='ï¿½STBY', fornavn='FRANK', adresse='Wï¿½RSETH 57', postnummer='7414', poststed='TRONDHEIM')  \n",
      "Person(etternavn='SKARSHAUG', fornavn='ASBJï¿½RN HARALD', adresse='ALAPMO 72', postnummer='7290', poststed='STï¿½REN')  \n",
      "LeftMost person: Person(etternavn='ELI', fornavn='RITA HELEN', adresse='MEHEIAVEGEN 80', postnummer='4436', poststed='GYLAND')\n"
     ]
    }
   ],
   "source": [
    "tree = createSmallTree(persons,10)\n",
    "#tree._root.levelOrder()\n",
    "tree._root.levelOrder()\n",
    "node = BinaryTreeNode(persons[2])\n",
    "print(f\"LeftMost person: {tree.findLeftMost(tree._root).value}\")\n",
    "#print(node.value)\n",
    "#assert tree.findLeftMost(tree._root) == node, \"Leftmost is not correct.\"\n",
    "#print(tree.findLeftMost(tree._root) == node)"
   ]
  },
  {
   "cell_type": "code",
   "execution_count": 86,
   "id": "e769064b",
   "metadata": {},
   "outputs": [],
   "source": [
    "dot = \"\"  # Force a redraw of tree\n",
    "# Create Digraph object\n",
    "dot = Digraph(comment='Binary Tree, NOT Search tree!')\n",
    "chars = \"ABCDEFGHIJKLMNOPQRSTUVWXYZ\"\n",
    "counter = 0\n",
    "# For å finne ut av hvordan nodene er satt sammen måtte jeg prøve og feile og ha utskrift levelOrder() i cellen over.\n",
    "dot.node('A', tree._root.value.etternavn)\n",
    "dot.node('B', tree._root.left.value.etternavn)\n",
    "dot.node('C', tree._root.right.value.etternavn)\n",
    "dot.node('D', tree._root.right.left.value.etternavn)\n",
    "dot.node('E', tree._root.right.right.value.etternavn)\n",
    "dot.node('F', tree._root.left.left.value.etternavn)\n",
    "dot.node('G', tree._root.right.left.left.value.etternavn)\n",
    "dot.node('H', tree._root.right.right.left.value.etternavn) # REMLO\n",
    "dot.node('I', tree._root.right.right.right.value.etternavn) # ØSTBY\n",
    "dot.node('J', tree._root.right.right.left.right.value.etternavn)\n",
    "\n",
    "dot.edges(['AB', 'AC', 'CD', 'CE', 'BF', 'DG', 'EH', 'EI', 'HJ'])\n",
    "#dot.edge('B', 'C', constraint='false')"
   ]
  },
  {
   "cell_type": "code",
   "execution_count": 87,
   "id": "8477f3df",
   "metadata": {},
   "outputs": [
    {
     "data": {
      "text/plain": [
       "'doctest-output/binaryTree.gv.pdf'"
      ]
     },
     "execution_count": 87,
     "metadata": {},
     "output_type": "execute_result"
    }
   ],
   "source": [
    "# Lager en tekstfil (cv) med info som cellen over, samt en pdf med figuren av treet.\n",
    "dot.render('doctest-output/binaryTree.gv').replace('\\\\', '/')\n",
    "'doctest-output/binaryTree.gv.pdf'"
   ]
  },
  {
   "cell_type": "code",
   "execution_count": 88,
   "id": "f4f7a21b",
   "metadata": {},
   "outputs": [
    {
     "data": {
      "text/plain": [
       "True"
      ]
     },
     "execution_count": 88,
     "metadata": {},
     "output_type": "execute_result"
    }
   ],
   "source": [
    "\"b\" > \"a\""
   ]
  },
  {
   "cell_type": "code",
   "execution_count": null,
   "id": "58bf6847",
   "metadata": {},
   "outputs": [],
   "source": []
  }
 ],
 "metadata": {
  "kernelspec": {
   "display_name": "Python 3 (ipykernel)",
   "language": "python",
   "name": "python3"
  },
  "language_info": {
   "codemirror_mode": {
    "name": "ipython",
    "version": 3
   },
   "file_extension": ".py",
   "mimetype": "text/x-python",
   "name": "python",
   "nbconvert_exporter": "python",
   "pygments_lexer": "ipython3",
   "version": "3.10.12"
  }
 },
 "nbformat": 4,
 "nbformat_minor": 5
}
